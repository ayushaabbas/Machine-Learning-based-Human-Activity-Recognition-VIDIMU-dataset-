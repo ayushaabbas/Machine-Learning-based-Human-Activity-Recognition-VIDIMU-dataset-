{
 "cells": [
  {
   "cell_type": "markdown",
   "metadata": {},
   "source": [
    "## Trim and synchronize VIDIMU dataset files (e.g., .mot, .csv, .raw) based on estimated ideal synchronization frames specified in `infoToSync.csv`. Processes each file type accordingly and saves the aligned versions to a new output directory.\n"
   ]
  },
  {
   "cell_type": "code",
   "execution_count": null,
   "metadata": {},
   "outputs": [],
   "source": [
    "import os  # For handling file paths and directory structures\n",
    "import sys  # For modifying the system path to import from custom directories\n",
    "import pandas as pd  # For loading and manipulating tabular data (like .csv or .tsv files)\n",
    "\n",
    "# Add the parent directory of the current working directory to the system path\n",
    "# This allows importing modules (e.g., utils) that are outside the current script's folder\n",
    "sys.path.append(os.path.dirname(os.getcwd()))\n",
    "\n",
    "# Import custom utility functions from your project\n",
    "# These functions are likely used for synchronizing IMU and video data\n",
    "from utils.syncUtilities import plotFramesShiftToSyncrhonizeAllSubjectsOneActivity,getMainJointFromMotAndMainBonesFromCSV, getSamplesToSynchronize, SynchronizeAndCutSignals"
   ]
  },
  {
   "cell_type": "code",
   "execution_count": 2,
   "metadata": {},
   "outputs": [],
   "source": [
    "import utils.fileProcessing as fileutil  # Import custom file processing utilities (e.g. reading .mot/.csv, extracting metadata) and alias it as 'fileutil' for easier access"
   ]
  },
  {
   "cell_type": "code",
   "execution_count": 3,
   "metadata": {},
   "outputs": [],
   "source": [
    "fulldatasetpath = r\"D:/Machine Learning/Video_IMU data/Data\"  # Root path to the full dataset directory containing all subject folders and activity data (e.g., .mot, .csv, .trc files)\n"
   ]
  },
  {
   "cell_type": "code",
   "execution_count": 4,
   "metadata": {},
   "outputs": [],
   "source": [
    "# Path to the input folder containing unsynchronized .mot files for all subjects\n",
    "inpath = os.path.join(fulldatasetpath, 'dataset', 'videoandimus')\n",
    "\n",
    "# Path to the folder containing synchronization metadata or processed CSVs (e.g., video-IMU time alignment info)\n",
    "inpathcsv = os.path.join(fulldatasetpath, 'analysis', 'videoandimusync')\n",
    "\n",
    "# Path to where synchronized output files (e.g., trimmed and aligned .mot files) will be saved\n",
    "outpath = os.path.join(fulldatasetpath, 'dataset', 'videoandimusync')\n",
    "\n",
    "# Create the output directory if it doesn't already exist\n",
    "if not os.path.exists(outpath):\n",
    "    os.makedirs(outpath)\n"
   ]
  },
  {
   "cell_type": "code",
   "execution_count": 5,
   "metadata": {},
   "outputs": [
    {
     "data": {
      "text/html": [
       "<div>\n",
       "<style scoped>\n",
       "    .dataframe tbody tr th:only-of-type {\n",
       "        vertical-align: middle;\n",
       "    }\n",
       "\n",
       "    .dataframe tbody tr th {\n",
       "        vertical-align: top;\n",
       "    }\n",
       "\n",
       "    .dataframe thead th {\n",
       "        text-align: right;\n",
       "    }\n",
       "</style>\n",
       "<table border=\"1\" class=\"dataframe\">\n",
       "  <thead>\n",
       "    <tr style=\"text-align: right;\">\n",
       "      <th></th>\n",
       "      <th>Subject</th>\n",
       "      <th>Activity</th>\n",
       "      <th>Trial</th>\n",
       "      <th>File</th>\n",
       "      <th>Type</th>\n",
       "      <th>CutFrames</th>\n",
       "      <th>OrigRmse</th>\n",
       "      <th>TheoRmse</th>\n",
       "    </tr>\n",
       "  </thead>\n",
       "  <tbody>\n",
       "    <tr>\n",
       "      <th>0</th>\n",
       "      <td>S41</td>\n",
       "      <td>A01</td>\n",
       "      <td>T02</td>\n",
       "      <td>D:/Machine Learning/Video_IMU data/Data\\datase...</td>\n",
       "      <td>mp4</td>\n",
       "      <td>4</td>\n",
       "      <td>12.386718</td>\n",
       "      <td>6.091099</td>\n",
       "    </tr>\n",
       "    <tr>\n",
       "      <th>1</th>\n",
       "      <td>S41</td>\n",
       "      <td>A01</td>\n",
       "      <td>T02</td>\n",
       "      <td>D:/Machine Learning/Video_IMU data/Data\\datase...</td>\n",
       "      <td>csv</td>\n",
       "      <td>4</td>\n",
       "      <td>12.386718</td>\n",
       "      <td>6.091099</td>\n",
       "    </tr>\n",
       "    <tr>\n",
       "      <th>2</th>\n",
       "      <td>S42</td>\n",
       "      <td>A01</td>\n",
       "      <td>T01</td>\n",
       "      <td>D:/Machine Learning/Video_IMU data/Data\\datase...</td>\n",
       "      <td>mp4</td>\n",
       "      <td>3</td>\n",
       "      <td>8.815782</td>\n",
       "      <td>2.952356</td>\n",
       "    </tr>\n",
       "    <tr>\n",
       "      <th>3</th>\n",
       "      <td>S42</td>\n",
       "      <td>A01</td>\n",
       "      <td>T01</td>\n",
       "      <td>D:/Machine Learning/Video_IMU data/Data\\datase...</td>\n",
       "      <td>csv</td>\n",
       "      <td>3</td>\n",
       "      <td>8.815782</td>\n",
       "      <td>2.952356</td>\n",
       "    </tr>\n",
       "    <tr>\n",
       "      <th>4</th>\n",
       "      <td>S44</td>\n",
       "      <td>A01</td>\n",
       "      <td>T01</td>\n",
       "      <td>D:/Machine Learning/Video_IMU data/Data\\datase...</td>\n",
       "      <td>raw</td>\n",
       "      <td>1</td>\n",
       "      <td>4.613521</td>\n",
       "      <td>3.228912</td>\n",
       "    </tr>\n",
       "  </tbody>\n",
       "</table>\n",
       "</div>"
      ],
      "text/plain": [
       "  Subject Activity Trial                                               File  \\\n",
       "0     S41      A01   T02  D:/Machine Learning/Video_IMU data/Data\\datase...   \n",
       "1     S41      A01   T02  D:/Machine Learning/Video_IMU data/Data\\datase...   \n",
       "2     S42      A01   T01  D:/Machine Learning/Video_IMU data/Data\\datase...   \n",
       "3     S42      A01   T01  D:/Machine Learning/Video_IMU data/Data\\datase...   \n",
       "4     S44      A01   T01  D:/Machine Learning/Video_IMU data/Data\\datase...   \n",
       "\n",
       "  Type  CutFrames   OrigRmse  TheoRmse  \n",
       "0  mp4          4  12.386718  6.091099  \n",
       "1  csv          4  12.386718  6.091099  \n",
       "2  mp4          3   8.815782  2.952356  \n",
       "3  csv          3   8.815782  2.952356  \n",
       "4  raw          1   4.613521  3.228912  "
      ]
     },
     "execution_count": 5,
     "metadata": {},
     "output_type": "execute_result"
    }
   ],
   "source": [
    "# Name of the CSV file that contains synchronization information (e.g., start/end frames or offsets)\n",
    "csvlog = 'infoToSync.csv'\n",
    "\n",
    "# Full path to the synchronization CSV file\n",
    "csvlogfile = os.path.join(inpathcsv, csvlog)\n",
    "\n",
    "# Try to load the synchronization metadata CSV into a DataFrame\n",
    "try:\n",
    "    dfsync = pd.read_csv(csvlogfile)\n",
    "except FileNotFoundError:\n",
    "    # If the file isn't found, print an error message\n",
    "    print(\"Can't find \", csvlogfile)\n",
    "\n",
    "# Display the first few rows of the synchronization DataFrame\n",
    "dfsync.head()\n"
   ]
  },
  {
   "cell_type": "code",
   "execution_count": 6,
   "metadata": {},
   "outputs": [],
   "source": [
    "# Sort the synchronization DataFrame by Subject and Activity to ensure consistent processing order\n",
    "dfsync = dfsync.sort_values(by=['Subject', 'Activity'])\n"
   ]
  },
  {
   "attachments": {},
   "cell_type": "markdown",
   "metadata": {},
   "source": [
    "### Modify text files (.raw, .mot, .csv) --> folder videoandimussync"
   ]
  },
  {
   "cell_type": "code",
   "execution_count": 7,
   "metadata": {},
   "outputs": [],
   "source": [
    "# List of subjects to process (filtered subset from the full dataset, likely the ones with valid synchronized video + IMU data)\n",
    "subjects = [\"S40\", \"S41\", \"S42\", \"S44\", \"S46\", \"S47\", \"S48\", \"S49\",\n",
    "            \"S50\", \"S51\", \"S52\", \"S53\", \"S54\", \"S55\", \"S56\", \"S57\"]\n"
   ]
  },
  {
   "cell_type": "code",
   "execution_count": 8,
   "metadata": {},
   "outputs": [],
   "source": [
    "# Iterate over each row in the synchronization metadata DataFrame\n",
    "for index, row in dfsync.iterrows():\n",
    "    subject = row['Subject']\n",
    "\n",
    "    # Skip this row if the subject is not in the filtered list\n",
    "    if subject not in subjects:\n",
    "        print('Skip subject')\n",
    "        continue\n",
    "\n",
    "    # Extract file info and metadata from the current row\n",
    "    file = row['File']         # Full path to the file to be trimmed\n",
    "    type = row['Type']         # File type: 'raw', 'mot', 'csv', or 'mp4'\n",
    "    frames = row['CutFrames']  # Number of video frames to cut from start\n",
    "\n",
    "    # Construct output path by replacing inpath with outpath\n",
    "    outfile = file.replace(inpath, outpath)\n",
    "\n",
    "    # Skip video files – only trimming synchronised motion/sensor data\n",
    "    if type == 'mp4':\n",
    "        # print(\"Skip video\")\n",
    "        continue\n",
    "\n",
    "    # Create output directory if it doesn't exist\n",
    "    if not os.path.exists(os.path.dirname(outfile)):\n",
    "        print(\"Creating directory: \", os.path.dirname(outfile))\n",
    "        os.mkdir(os.path.dirname(outfile))\n",
    "\n",
    "    # === Handle trimming based on file type ===\n",
    "\n",
    "    if type == 'raw':\n",
    "        # RAW IMU files: 5 sensors sampled at 50 Hz → lines_per_frame maps video frames (30 Hz) to IMU lines\n",
    "        lines_per_frame = 5 * (50 / 30)\n",
    "        row_start = 2  # Data starts from row 2\n",
    "        # Trim the IMU data based on synchronised video frame count\n",
    "        fileutil.remove_insidelines_file(file, row_start, int(frames * lines_per_frame), outfile)\n",
    "\n",
    "    elif type == 'mot':\n",
    "        # .mot files: 1 set of joint angles sampled at 50 Hz → direct frame mapping\n",
    "        lines_per_frame = 50 / 30\n",
    "        row_start = 9  # OpenSim .mot files usually have 9 header rows\n",
    "        fileutil.remove_insidelines_file(file, row_start, int(frames * lines_per_frame), outfile)\n",
    "\n",
    "    elif type == 'csv':\n",
    "        # CSV files (e.g., from video tracking): assume 1 line per video frame\n",
    "        lines_per_frame = 1\n",
    "        row_start = 2\n",
    "        fileutil.remove_insidelines_file(file, row_start, int(frames * lines_per_frame), outfile)\n",
    "\n",
    "    else:\n",
    "        # If the file type is unrecognised, skip\n",
    "        continue\n"
   ]
  }
 ],
 "metadata": {
  "kernelspec": {
   "display_name": "cancer_recurrence_ai",
   "language": "python",
   "name": "python3"
  },
  "language_info": {
   "codemirror_mode": {
    "name": "ipython",
    "version": 3
   },
   "file_extension": ".py",
   "mimetype": "text/x-python",
   "name": "python",
   "nbconvert_exporter": "python",
   "pygments_lexer": "ipython3",
   "version": "3.10.18"
  },
  "orig_nbformat": 4
 },
 "nbformat": 4,
 "nbformat_minor": 2
}
